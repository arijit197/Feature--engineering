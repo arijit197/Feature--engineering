{
  "nbformat": 4,
  "nbformat_minor": 0,
  "metadata": {
    "colab": {
      "name": "outliers_practice.ipynb",
      "provenance": [],
      "collapsed_sections": []
    },
    "kernelspec": {
      "name": "python3",
      "display_name": "Python 3"
    },
    "language_info": {
      "name": "python"
    }
  },
  "cells": [
    {
      "cell_type": "code",
      "execution_count": 2,
      "metadata": {
        "id": "G859TrvYmnYw"
      },
      "outputs": [],
      "source": [
        "import pandas as pd\n",
        "import numpy as np\n",
        "import tensorflow as tf\n",
        "import matplotlib.pyplot as plt\n",
        "import seaborn as sb"
      ]
    },
    {
      "cell_type": "code",
      "source": [
        "data = [1,2,11,33,224,5,33,6,77,3,7,6695,55,45,344,34,23,24,25,26,46,47,45,48,48,39,2,22,77,6,333,66]\n",
        "n = len(data)\n",
        "n"
      ],
      "metadata": {
        "colab": {
          "base_uri": "https://localhost:8080/"
        },
        "id": "YCSyLwvNmsFt",
        "outputId": "27295434-100a-4d78-86c4-fd7beb64f85a"
      },
      "execution_count": 3,
      "outputs": [
        {
          "output_type": "execute_result",
          "data": {
            "text/plain": [
              "32"
            ]
          },
          "metadata": {},
          "execution_count": 3
        }
      ]
    },
    {
      "cell_type": "markdown",
      "source": [
        "###To Find the outliers Using Z-score (SND)\n"
      ],
      "metadata": {
        "id": "GL3-BiS8uSG4"
      }
    },
    {
      "cell_type": "code",
      "source": [
        "outlier = []\n",
        "def outlier_zscore(data):\n",
        "  thershold = 3\n",
        "\n",
        "  u = np.mean(data)\n",
        "  sig = np.std(data)\n",
        "\n",
        "  for x in data :\n",
        "    z = (abs(x-u))/sig\n",
        "\n",
        "    if z > thershold :\n",
        "      outlier.append(x)\n",
        "\n",
        "  return outlier"
      ],
      "metadata": {
        "id": "wQnLZupVmsLh"
      },
      "execution_count": 4,
      "outputs": []
    },
    {
      "cell_type": "code",
      "source": [
        "outliers = outlier_zscore(data)\n",
        "outliers"
      ],
      "metadata": {
        "colab": {
          "base_uri": "https://localhost:8080/"
        },
        "id": "5kh2B5LXv2j8",
        "outputId": "06847ec8-8ce9-4b38-f743-b2e9fcefd23d"
      },
      "execution_count": 5,
      "outputs": [
        {
          "output_type": "execute_result",
          "data": {
            "text/plain": [
              "[6695]"
            ]
          },
          "metadata": {},
          "execution_count": 5
        }
      ]
    },
    {
      "cell_type": "markdown",
      "source": [
        "###Finding Outliers using IQR (Inter Quantile Range)\n"
      ],
      "metadata": {
        "id": "c0Jidls8wI70"
      }
    },
    {
      "cell_type": "code",
      "source": [
        "outlier = []\n",
        "def outlier_iqr(data):\n",
        "  d = sorted(data)\n",
        "  q1,q3 = np.percentile(d,[25,75])\n",
        "  print(q1,q3)\n",
        "\n",
        "  q = (q3 - q1) \n",
        "\n",
        "  lower_bound = q1 - (1.5*q)\n",
        "  upper_bound = q3 + (1.5*q) \n",
        "\n",
        "  print(lower_bound,upper_bound)\n",
        "\n",
        "  for x in d:\n",
        "    if x < lower_bound or x > upper_bound :\n",
        "      outlier.append(x)\n",
        "    \n",
        "  return outlier"
      ],
      "metadata": {
        "id": "iCMs-Md9v2t3"
      },
      "execution_count": 7,
      "outputs": []
    },
    {
      "cell_type": "code",
      "source": [
        "outliers_iqr = outlier_iqr(data)\n",
        "outliers_iqr"
      ],
      "metadata": {
        "colab": {
          "base_uri": "https://localhost:8080/"
        },
        "id": "ZGA-MwLVwR6_",
        "outputId": "2bf70b2a-dd5f-439c-d1dd-9dab1e17a7b7"
      },
      "execution_count": null,
      "outputs": [
        {
          "output_type": "stream",
          "name": "stdout",
          "text": [
            "10.0 49.75\n",
            "-49.625 109.375\n"
          ]
        },
        {
          "output_type": "execute_result",
          "data": {
            "text/plain": [
              "[224, 333, 344, 6695, 224, 333, 344, 6695]"
            ]
          },
          "metadata": {},
          "execution_count": 19
        }
      ]
    },
    {
      "cell_type": "code",
      "source": [
        ""
      ],
      "metadata": {
        "id": "t4qHVeYTwR_j"
      },
      "execution_count": null,
      "outputs": []
    },
    {
      "cell_type": "code",
      "source": [
        ""
      ],
      "metadata": {
        "id": "D2UsSzQNwSDB"
      },
      "execution_count": null,
      "outputs": []
    }
  ]
}