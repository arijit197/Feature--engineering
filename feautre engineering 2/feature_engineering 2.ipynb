{
 "cells": [
  {
   "cell_type": "code",
   "execution_count": 99,
   "metadata": {},
   "outputs": [],
   "source": [
    "import  pandas as pd\n",
    "import numpy as np\n",
    "import matplotlib.pyplot as plt\n",
    "\n",
    "from sklearn.linear_model import LogisticRegression\n",
    "from sklearn.ensemble import AdaBoostClassifier\n",
    "from sklearn.ensemble import RandomForestClassifier\n",
    "from sklearn.ensemble import GradientBoostingClassifier\n",
    "\n",
    "from sklearn.metrics import roc_auc_score\n",
    "\n",
    "from sklearn.model_selection import train_test_split"
   ]
  },
  {
   "cell_type": "markdown",
   "metadata": {},
   "source": [
    "## Loading the dataset"
   ]
  },
  {
   "cell_type": "code",
   "execution_count": 100,
   "metadata": {},
   "outputs": [
    {
     "data": {
      "text/html": [
       "<div>\n",
       "<style scoped>\n",
       "    .dataframe tbody tr th:only-of-type {\n",
       "        vertical-align: middle;\n",
       "    }\n",
       "\n",
       "    .dataframe tbody tr th {\n",
       "        vertical-align: top;\n",
       "    }\n",
       "\n",
       "    .dataframe thead th {\n",
       "        text-align: right;\n",
       "    }\n",
       "</style>\n",
       "<table border=\"1\" class=\"dataframe\">\n",
       "  <thead>\n",
       "    <tr style=\"text-align: right;\">\n",
       "      <th></th>\n",
       "      <th>PassengerId</th>\n",
       "      <th>Survived</th>\n",
       "      <th>Pclass</th>\n",
       "      <th>Name</th>\n",
       "      <th>Sex</th>\n",
       "      <th>Age</th>\n",
       "      <th>SibSp</th>\n",
       "      <th>Parch</th>\n",
       "      <th>Ticket</th>\n",
       "      <th>Fare</th>\n",
       "      <th>Cabin</th>\n",
       "      <th>Embarked</th>\n",
       "    </tr>\n",
       "  </thead>\n",
       "  <tbody>\n",
       "    <tr>\n",
       "      <th>0</th>\n",
       "      <td>1</td>\n",
       "      <td>0</td>\n",
       "      <td>3</td>\n",
       "      <td>Braund, Mr. Owen Harris</td>\n",
       "      <td>male</td>\n",
       "      <td>22.0</td>\n",
       "      <td>1</td>\n",
       "      <td>0</td>\n",
       "      <td>A/5 21171</td>\n",
       "      <td>7.2500</td>\n",
       "      <td>NaN</td>\n",
       "      <td>S</td>\n",
       "    </tr>\n",
       "    <tr>\n",
       "      <th>1</th>\n",
       "      <td>2</td>\n",
       "      <td>1</td>\n",
       "      <td>1</td>\n",
       "      <td>Cumings, Mrs. John Bradley (Florence Briggs Th...</td>\n",
       "      <td>female</td>\n",
       "      <td>38.0</td>\n",
       "      <td>1</td>\n",
       "      <td>0</td>\n",
       "      <td>PC 17599</td>\n",
       "      <td>71.2833</td>\n",
       "      <td>C85</td>\n",
       "      <td>C</td>\n",
       "    </tr>\n",
       "    <tr>\n",
       "      <th>2</th>\n",
       "      <td>3</td>\n",
       "      <td>1</td>\n",
       "      <td>3</td>\n",
       "      <td>Heikkinen, Miss. Laina</td>\n",
       "      <td>female</td>\n",
       "      <td>26.0</td>\n",
       "      <td>0</td>\n",
       "      <td>0</td>\n",
       "      <td>STON/O2. 3101282</td>\n",
       "      <td>7.9250</td>\n",
       "      <td>NaN</td>\n",
       "      <td>S</td>\n",
       "    </tr>\n",
       "    <tr>\n",
       "      <th>3</th>\n",
       "      <td>4</td>\n",
       "      <td>1</td>\n",
       "      <td>1</td>\n",
       "      <td>Futrelle, Mrs. Jacques Heath (Lily May Peel)</td>\n",
       "      <td>female</td>\n",
       "      <td>35.0</td>\n",
       "      <td>1</td>\n",
       "      <td>0</td>\n",
       "      <td>113803</td>\n",
       "      <td>53.1000</td>\n",
       "      <td>C123</td>\n",
       "      <td>S</td>\n",
       "    </tr>\n",
       "    <tr>\n",
       "      <th>4</th>\n",
       "      <td>5</td>\n",
       "      <td>0</td>\n",
       "      <td>3</td>\n",
       "      <td>Allen, Mr. William Henry</td>\n",
       "      <td>male</td>\n",
       "      <td>35.0</td>\n",
       "      <td>0</td>\n",
       "      <td>0</td>\n",
       "      <td>373450</td>\n",
       "      <td>8.0500</td>\n",
       "      <td>NaN</td>\n",
       "      <td>S</td>\n",
       "    </tr>\n",
       "  </tbody>\n",
       "</table>\n",
       "</div>"
      ],
      "text/plain": [
       "   PassengerId  Survived  Pclass  \\\n",
       "0            1         0       3   \n",
       "1            2         1       1   \n",
       "2            3         1       3   \n",
       "3            4         1       1   \n",
       "4            5         0       3   \n",
       "\n",
       "                                                Name     Sex   Age  SibSp  \\\n",
       "0                            Braund, Mr. Owen Harris    male  22.0      1   \n",
       "1  Cumings, Mrs. John Bradley (Florence Briggs Th...  female  38.0      1   \n",
       "2                             Heikkinen, Miss. Laina  female  26.0      0   \n",
       "3       Futrelle, Mrs. Jacques Heath (Lily May Peel)  female  35.0      1   \n",
       "4                           Allen, Mr. William Henry    male  35.0      0   \n",
       "\n",
       "   Parch            Ticket     Fare Cabin Embarked  \n",
       "0      0         A/5 21171   7.2500   NaN        S  \n",
       "1      0          PC 17599  71.2833   C85        C  \n",
       "2      0  STON/O2. 3101282   7.9250   NaN        S  \n",
       "3      0            113803  53.1000  C123        S  \n",
       "4      0            373450   8.0500   NaN        S  "
      ]
     },
     "execution_count": 100,
     "metadata": {},
     "output_type": "execute_result"
    }
   ],
   "source": [
    "data = pd.read_csv('train.csv')\n",
    "data.head()"
   ]
  },
  {
   "cell_type": "code",
   "execution_count": 101,
   "metadata": {},
   "outputs": [
    {
     "data": {
      "text/plain": [
       "(891, 12)"
      ]
     },
     "execution_count": 101,
     "metadata": {},
     "output_type": "execute_result"
    }
   ],
   "source": [
    "data.shape"
   ]
  },
  {
   "cell_type": "code",
   "execution_count": 102,
   "metadata": {},
   "outputs": [
    {
     "data": {
      "text/plain": [
       "891"
      ]
     },
     "execution_count": 102,
     "metadata": {},
     "output_type": "execute_result"
    }
   ],
   "source": [
    "data['Name'].nunique()"
   ]
  },
  {
   "cell_type": "code",
   "execution_count": 103,
   "metadata": {},
   "outputs": [
    {
     "data": {
      "text/plain": [
       "2"
      ]
     },
     "execution_count": 103,
     "metadata": {},
     "output_type": "execute_result"
    }
   ],
   "source": [
    "data['Sex'].nunique()"
   ]
  },
  {
   "cell_type": "code",
   "execution_count": 104,
   "metadata": {},
   "outputs": [
    {
     "data": {
      "text/plain": [
       "147"
      ]
     },
     "execution_count": 104,
     "metadata": {},
     "output_type": "execute_result"
    }
   ],
   "source": [
    "data['Cabin'].nunique()"
   ]
  },
  {
   "cell_type": "code",
   "execution_count": 105,
   "metadata": {},
   "outputs": [],
   "source": [
    "df = data[['Sex','Cabin','Survived']]"
   ]
  },
  {
   "cell_type": "code",
   "execution_count": 106,
   "metadata": {},
   "outputs": [
    {
     "data": {
      "text/html": [
       "<div>\n",
       "<style scoped>\n",
       "    .dataframe tbody tr th:only-of-type {\n",
       "        vertical-align: middle;\n",
       "    }\n",
       "\n",
       "    .dataframe tbody tr th {\n",
       "        vertical-align: top;\n",
       "    }\n",
       "\n",
       "    .dataframe thead th {\n",
       "        text-align: right;\n",
       "    }\n",
       "</style>\n",
       "<table border=\"1\" class=\"dataframe\">\n",
       "  <thead>\n",
       "    <tr style=\"text-align: right;\">\n",
       "      <th></th>\n",
       "      <th>Sex</th>\n",
       "      <th>Cabin</th>\n",
       "      <th>Survived</th>\n",
       "    </tr>\n",
       "  </thead>\n",
       "  <tbody>\n",
       "    <tr>\n",
       "      <th>0</th>\n",
       "      <td>male</td>\n",
       "      <td>NaN</td>\n",
       "      <td>0</td>\n",
       "    </tr>\n",
       "    <tr>\n",
       "      <th>1</th>\n",
       "      <td>female</td>\n",
       "      <td>C85</td>\n",
       "      <td>1</td>\n",
       "    </tr>\n",
       "    <tr>\n",
       "      <th>2</th>\n",
       "      <td>female</td>\n",
       "      <td>NaN</td>\n",
       "      <td>1</td>\n",
       "    </tr>\n",
       "    <tr>\n",
       "      <th>3</th>\n",
       "      <td>female</td>\n",
       "      <td>C123</td>\n",
       "      <td>1</td>\n",
       "    </tr>\n",
       "    <tr>\n",
       "      <th>4</th>\n",
       "      <td>male</td>\n",
       "      <td>NaN</td>\n",
       "      <td>0</td>\n",
       "    </tr>\n",
       "    <tr>\n",
       "      <th>...</th>\n",
       "      <td>...</td>\n",
       "      <td>...</td>\n",
       "      <td>...</td>\n",
       "    </tr>\n",
       "    <tr>\n",
       "      <th>886</th>\n",
       "      <td>male</td>\n",
       "      <td>NaN</td>\n",
       "      <td>0</td>\n",
       "    </tr>\n",
       "    <tr>\n",
       "      <th>887</th>\n",
       "      <td>female</td>\n",
       "      <td>B42</td>\n",
       "      <td>1</td>\n",
       "    </tr>\n",
       "    <tr>\n",
       "      <th>888</th>\n",
       "      <td>female</td>\n",
       "      <td>NaN</td>\n",
       "      <td>0</td>\n",
       "    </tr>\n",
       "    <tr>\n",
       "      <th>889</th>\n",
       "      <td>male</td>\n",
       "      <td>C148</td>\n",
       "      <td>1</td>\n",
       "    </tr>\n",
       "    <tr>\n",
       "      <th>890</th>\n",
       "      <td>male</td>\n",
       "      <td>NaN</td>\n",
       "      <td>0</td>\n",
       "    </tr>\n",
       "  </tbody>\n",
       "</table>\n",
       "<p>891 rows × 3 columns</p>\n",
       "</div>"
      ],
      "text/plain": [
       "        Sex Cabin  Survived\n",
       "0      male   NaN         0\n",
       "1    female   C85         1\n",
       "2    female   NaN         1\n",
       "3    female  C123         1\n",
       "4      male   NaN         0\n",
       "..      ...   ...       ...\n",
       "886    male   NaN         0\n",
       "887  female   B42         1\n",
       "888  female   NaN         0\n",
       "889    male  C148         1\n",
       "890    male   NaN         0\n",
       "\n",
       "[891 rows x 3 columns]"
      ]
     },
     "execution_count": 106,
     "metadata": {},
     "output_type": "execute_result"
    }
   ],
   "source": [
    "df"
   ]
  },
  {
   "cell_type": "markdown",
   "metadata": {},
   "source": [
    "### Recognising the different unique values in the columns"
   ]
  },
  {
   "cell_type": "code",
   "execution_count": 107,
   "metadata": {},
   "outputs": [
    {
     "data": {
      "text/plain": [
       "8"
      ]
     },
     "execution_count": 107,
     "metadata": {},
     "output_type": "execute_result"
    }
   ],
   "source": [
    "df['Cabin'].str[0].nunique()"
   ]
  },
  {
   "cell_type": "code",
   "execution_count": 108,
   "metadata": {},
   "outputs": [
    {
     "data": {
      "text/plain": [
       "array([nan, 'C', 'E', 'G', 'D', 'A', 'B', 'F', 'T'], dtype=object)"
      ]
     },
     "execution_count": 108,
     "metadata": {},
     "output_type": "execute_result"
    }
   ],
   "source": [
    "#recognising the different unique values in the columns \"Cabin\"  with str[0] : means with the help of first index of the string it contains\n",
    "\n",
    "df['Cabin'].str[0].unique()"
   ]
  },
  {
   "cell_type": "markdown",
   "metadata": {},
   "source": [
    "### Filling the nan values"
   ]
  },
  {
   "cell_type": "code",
   "execution_count": 109,
   "metadata": {},
   "outputs": [
    {
     "data": {
      "text/plain": [
       "array(['n', 'C', 'E', 'G', 'D', 'A', 'B', 'F', 'T'], dtype=object)"
      ]
     },
     "execution_count": 109,
     "metadata": {},
     "output_type": "execute_result"
    }
   ],
   "source": [
    "#filling the nan values with 'n' using the fillna()\n",
    "\n",
    "df['Cabin'].str[0].fillna('n').unique()"
   ]
  },
  {
   "cell_type": "code",
   "execution_count": 110,
   "metadata": {},
   "outputs": [
    {
     "name": "stderr",
     "output_type": "stream",
     "text": [
      "/home/arijit/anaconda3/lib/python3.7/site-packages/ipykernel_launcher.py:1: SettingWithCopyWarning: \n",
      "A value is trying to be set on a copy of a slice from a DataFrame.\n",
      "Try using .loc[row_indexer,col_indexer] = value instead\n",
      "\n",
      "See the caveats in the documentation: https://pandas.pydata.org/pandas-docs/stable/user_guide/indexing.html#returning-a-view-versus-a-copy\n",
      "  \"\"\"Entry point for launching an IPython kernel.\n"
     ]
    },
    {
     "data": {
      "text/html": [
       "<div>\n",
       "<style scoped>\n",
       "    .dataframe tbody tr th:only-of-type {\n",
       "        vertical-align: middle;\n",
       "    }\n",
       "\n",
       "    .dataframe tbody tr th {\n",
       "        vertical-align: top;\n",
       "    }\n",
       "\n",
       "    .dataframe thead th {\n",
       "        text-align: right;\n",
       "    }\n",
       "</style>\n",
       "<table border=\"1\" class=\"dataframe\">\n",
       "  <thead>\n",
       "    <tr style=\"text-align: right;\">\n",
       "      <th></th>\n",
       "      <th>Sex</th>\n",
       "      <th>Cabin</th>\n",
       "      <th>Survived</th>\n",
       "      <th>Cabin_reduced</th>\n",
       "    </tr>\n",
       "  </thead>\n",
       "  <tbody>\n",
       "    <tr>\n",
       "      <th>0</th>\n",
       "      <td>male</td>\n",
       "      <td>NaN</td>\n",
       "      <td>0</td>\n",
       "      <td>n</td>\n",
       "    </tr>\n",
       "    <tr>\n",
       "      <th>1</th>\n",
       "      <td>female</td>\n",
       "      <td>C85</td>\n",
       "      <td>1</td>\n",
       "      <td>C</td>\n",
       "    </tr>\n",
       "    <tr>\n",
       "      <th>2</th>\n",
       "      <td>female</td>\n",
       "      <td>NaN</td>\n",
       "      <td>1</td>\n",
       "      <td>n</td>\n",
       "    </tr>\n",
       "    <tr>\n",
       "      <th>3</th>\n",
       "      <td>female</td>\n",
       "      <td>C123</td>\n",
       "      <td>1</td>\n",
       "      <td>C</td>\n",
       "    </tr>\n",
       "    <tr>\n",
       "      <th>4</th>\n",
       "      <td>male</td>\n",
       "      <td>NaN</td>\n",
       "      <td>0</td>\n",
       "      <td>n</td>\n",
       "    </tr>\n",
       "    <tr>\n",
       "      <th>5</th>\n",
       "      <td>male</td>\n",
       "      <td>NaN</td>\n",
       "      <td>0</td>\n",
       "      <td>n</td>\n",
       "    </tr>\n",
       "    <tr>\n",
       "      <th>6</th>\n",
       "      <td>male</td>\n",
       "      <td>E46</td>\n",
       "      <td>0</td>\n",
       "      <td>E</td>\n",
       "    </tr>\n",
       "    <tr>\n",
       "      <th>7</th>\n",
       "      <td>male</td>\n",
       "      <td>NaN</td>\n",
       "      <td>0</td>\n",
       "      <td>n</td>\n",
       "    </tr>\n",
       "    <tr>\n",
       "      <th>8</th>\n",
       "      <td>female</td>\n",
       "      <td>NaN</td>\n",
       "      <td>1</td>\n",
       "      <td>n</td>\n",
       "    </tr>\n",
       "    <tr>\n",
       "      <th>9</th>\n",
       "      <td>female</td>\n",
       "      <td>NaN</td>\n",
       "      <td>1</td>\n",
       "      <td>n</td>\n",
       "    </tr>\n",
       "  </tbody>\n",
       "</table>\n",
       "</div>"
      ],
      "text/plain": [
       "      Sex Cabin  Survived Cabin_reduced\n",
       "0    male   NaN         0             n\n",
       "1  female   C85         1             C\n",
       "2  female   NaN         1             n\n",
       "3  female  C123         1             C\n",
       "4    male   NaN         0             n\n",
       "5    male   NaN         0             n\n",
       "6    male   E46         0             E\n",
       "7    male   NaN         0             n\n",
       "8  female   NaN         1             n\n",
       "9  female   NaN         1             n"
      ]
     },
     "execution_count": 110,
     "metadata": {},
     "output_type": "execute_result"
    }
   ],
   "source": [
    "df['Cabin_reduced'] = df['Cabin'].str[0].fillna('n')\n",
    "df.head(10)"
   ]
  },
  {
   "cell_type": "code",
   "execution_count": 111,
   "metadata": {},
   "outputs": [
    {
     "data": {
      "text/plain": [
       "(2, 147, 9)"
      ]
     },
     "execution_count": 111,
     "metadata": {},
     "output_type": "execute_result"
    }
   ],
   "source": [
    "#Checking the cardinality:\n",
    "\n",
    "df['Sex'].nunique(),df['Cabin'].nunique(),df['Cabin_reduced'].nunique()"
   ]
  },
  {
   "cell_type": "markdown",
   "metadata": {},
   "source": [
    "## Train Test Split "
   ]
  },
  {
   "cell_type": "code",
   "execution_count": 112,
   "metadata": {},
   "outputs": [],
   "source": [
    "use_cols = ['Cabin','Cabin_reduced','Sex']\n",
    "x_train,x_test,y_train,y_test = train_test_split(df[use_cols],df['Survived'],test_size = 0.4, random_state = 0)"
   ]
  },
  {
   "cell_type": "code",
   "execution_count": 113,
   "metadata": {},
   "outputs": [
    {
     "data": {
      "text/plain": [
       "((534, 3), (357, 3))"
      ]
     },
     "execution_count": 113,
     "metadata": {},
     "output_type": "execute_result"
    }
   ],
   "source": [
    "x_train.shape,x_test.shape"
   ]
  },
  {
   "cell_type": "code",
   "execution_count": 114,
   "metadata": {},
   "outputs": [
    {
     "data": {
      "text/plain": [
       "(array([nan, 'E67', 'C126', 'B73', 'E36', 'C78', 'E46', 'C111', 'E101',\n",
       "        'D15', 'E12', 'G6', 'A32', 'B4', 'A10', 'A5', 'C95', 'E25', 'C90',\n",
       "        'D6', 'A36', 'D', 'D26', 'D50', 'B96 B98', 'C93', 'E77', 'C101',\n",
       "        'D11', 'C123', 'C32', 'B35', 'C91', 'T', 'B101', 'E58', 'A23',\n",
       "        'B77', 'D28', 'B82 B84', 'B79', 'E44', 'C45', 'C2', 'B5', 'C104',\n",
       "        'B20', 'A19', 'B51 B53 B55', 'B80', 'B38', 'B22', 'B18', 'C22 C26',\n",
       "        'E8', 'A16', 'F2', 'D47', 'E121', 'D33', 'C23 C25 C27', 'B28',\n",
       "        'E10', 'D36', 'C46', 'B39', 'D30', 'E33', 'C50', 'D20', 'C124',\n",
       "        'A34', 'C110', 'D19', 'B86', 'D35', 'C99', 'D46', 'F38', 'A24',\n",
       "        'D7', 'C65', 'C103', 'A31', 'C82', 'F G63', 'A6', 'E50', 'C68',\n",
       "        'C52', 'B3', 'B49', 'C118', 'C70', 'F E69', 'F4', 'C86', 'D48',\n",
       "        'C49', 'C92', 'A7', 'A20', 'E24', 'E49'], dtype=object),\n",
       " array([nan, 'B78', 'C106', 'C125', 'C7', 'B49', 'C54', 'E34', 'C52',\n",
       "        'B50', 'B41', 'C83', 'B57 B59 B63 B66', 'E67', 'D45', 'D10 D12',\n",
       "        'C47', 'C87', 'D20', 'D17', 'B42', 'C126', 'C23 C25 C27', 'D9',\n",
       "        'F33', 'C65', 'B102', 'F2', 'B18', 'D49', 'F G73', 'G6', 'E33',\n",
       "        'B96 B98', 'C62 C64', 'B37', 'C78', 'B58 B60', 'C85', 'D36',\n",
       "        'C124', 'B71', 'B30', 'A26', 'B69', 'E68', 'E121', 'C68', 'B94',\n",
       "        'E17', 'D33', 'D26', 'C128', 'A14', 'B19', 'D21', 'C148', 'C30',\n",
       "        'D56', 'E24', 'E40', 'E31', 'E44', 'E38', 'D37', 'E8', 'C92',\n",
       "        'E63', 'F4'], dtype=object))"
      ]
     },
     "execution_count": 114,
     "metadata": {},
     "output_type": "execute_result"
    }
   ],
   "source": [
    "train_cabin_unique = x_train['Cabin'].unique()\n",
    "test_cabin_unique = x_test['Cabin'].unique()\n",
    "train_cabin_unique,test_cabin_unique"
   ]
  },
  {
   "cell_type": "markdown",
   "metadata": {},
   "source": [
    "### Cabin"
   ]
  },
  {
   "cell_type": "code",
   "execution_count": 115,
   "metadata": {},
   "outputs": [
    {
     "data": {
      "text/plain": [
       "35"
      ]
     },
     "execution_count": 115,
     "metadata": {},
     "output_type": "execute_result"
    }
   ],
   "source": [
    "len(train_cabin_unique) - len(test_cabin_unique)"
   ]
  },
  {
   "cell_type": "code",
   "execution_count": 116,
   "metadata": {},
   "outputs": [],
   "source": [
    " A = [a for a in train_cabin_unique if a not in test_cabin_unique]"
   ]
  },
  {
   "cell_type": "code",
   "execution_count": 117,
   "metadata": {},
   "outputs": [
    {
     "data": {
      "text/plain": [
       "(80, list)"
      ]
     },
     "execution_count": 117,
     "metadata": {},
     "output_type": "execute_result"
    }
   ],
   "source": [
    "len(A), type(A)"
   ]
  },
  {
   "cell_type": "code",
   "execution_count": 118,
   "metadata": {},
   "outputs": [],
   "source": [
    "B = [a for a in test_cabin_unique if a not in train_cabin_unique]"
   ]
  },
  {
   "cell_type": "code",
   "execution_count": 119,
   "metadata": {},
   "outputs": [
    {
     "data": {
      "text/plain": [
       "(45, list)"
      ]
     },
     "execution_count": 119,
     "metadata": {},
     "output_type": "execute_result"
    }
   ],
   "source": [
    "len(B),type(B)"
   ]
  },
  {
   "cell_type": "markdown",
   "metadata": {},
   "source": [
    "### Cabin Reduced"
   ]
  },
  {
   "cell_type": "code",
   "execution_count": 120,
   "metadata": {},
   "outputs": [
    {
     "data": {
      "text/plain": [
       "1"
      ]
     },
     "execution_count": 120,
     "metadata": {},
     "output_type": "execute_result"
    }
   ],
   "source": [
    "A_r = [a for a in x_train['Cabin_reduced'].unique() if a not in x_test['Cabin_reduced'].unique()]\n",
    "len(A_r)"
   ]
  },
  {
   "cell_type": "code",
   "execution_count": 121,
   "metadata": {},
   "outputs": [
    {
     "data": {
      "text/plain": [
       "0"
      ]
     },
     "execution_count": 121,
     "metadata": {},
     "output_type": "execute_result"
    }
   ],
   "source": [
    "B_r = [a for a in x_test['Cabin_reduced'].unique() if a not in x_train['Cabin_reduced'].unique()]\n",
    "len(B_r)"
   ]
  },
  {
   "cell_type": "markdown",
   "metadata": {},
   "source": [
    "## Categorical encoding"
   ]
  },
  {
   "cell_type": "code",
   "execution_count": 122,
   "metadata": {},
   "outputs": [
    {
     "data": {
      "text/html": [
       "<div>\n",
       "<style scoped>\n",
       "    .dataframe tbody tr th:only-of-type {\n",
       "        vertical-align: middle;\n",
       "    }\n",
       "\n",
       "    .dataframe tbody tr th {\n",
       "        vertical-align: top;\n",
       "    }\n",
       "\n",
       "    .dataframe thead th {\n",
       "        text-align: right;\n",
       "    }\n",
       "</style>\n",
       "<table border=\"1\" class=\"dataframe\">\n",
       "  <thead>\n",
       "    <tr style=\"text-align: right;\">\n",
       "      <th></th>\n",
       "      <th>Sex</th>\n",
       "      <th>Cabin</th>\n",
       "      <th>Survived</th>\n",
       "      <th>Cabin_reduced</th>\n",
       "    </tr>\n",
       "  </thead>\n",
       "  <tbody>\n",
       "    <tr>\n",
       "      <th>0</th>\n",
       "      <td>male</td>\n",
       "      <td>NaN</td>\n",
       "      <td>0</td>\n",
       "      <td>n</td>\n",
       "    </tr>\n",
       "    <tr>\n",
       "      <th>1</th>\n",
       "      <td>female</td>\n",
       "      <td>C85</td>\n",
       "      <td>1</td>\n",
       "      <td>C</td>\n",
       "    </tr>\n",
       "    <tr>\n",
       "      <th>2</th>\n",
       "      <td>female</td>\n",
       "      <td>NaN</td>\n",
       "      <td>1</td>\n",
       "      <td>n</td>\n",
       "    </tr>\n",
       "    <tr>\n",
       "      <th>3</th>\n",
       "      <td>female</td>\n",
       "      <td>C123</td>\n",
       "      <td>1</td>\n",
       "      <td>C</td>\n",
       "    </tr>\n",
       "    <tr>\n",
       "      <th>4</th>\n",
       "      <td>male</td>\n",
       "      <td>NaN</td>\n",
       "      <td>0</td>\n",
       "      <td>n</td>\n",
       "    </tr>\n",
       "    <tr>\n",
       "      <th>...</th>\n",
       "      <td>...</td>\n",
       "      <td>...</td>\n",
       "      <td>...</td>\n",
       "      <td>...</td>\n",
       "    </tr>\n",
       "    <tr>\n",
       "      <th>886</th>\n",
       "      <td>male</td>\n",
       "      <td>NaN</td>\n",
       "      <td>0</td>\n",
       "      <td>n</td>\n",
       "    </tr>\n",
       "    <tr>\n",
       "      <th>887</th>\n",
       "      <td>female</td>\n",
       "      <td>B42</td>\n",
       "      <td>1</td>\n",
       "      <td>B</td>\n",
       "    </tr>\n",
       "    <tr>\n",
       "      <th>888</th>\n",
       "      <td>female</td>\n",
       "      <td>NaN</td>\n",
       "      <td>0</td>\n",
       "      <td>n</td>\n",
       "    </tr>\n",
       "    <tr>\n",
       "      <th>889</th>\n",
       "      <td>male</td>\n",
       "      <td>C148</td>\n",
       "      <td>1</td>\n",
       "      <td>C</td>\n",
       "    </tr>\n",
       "    <tr>\n",
       "      <th>890</th>\n",
       "      <td>male</td>\n",
       "      <td>NaN</td>\n",
       "      <td>0</td>\n",
       "      <td>n</td>\n",
       "    </tr>\n",
       "  </tbody>\n",
       "</table>\n",
       "<p>891 rows × 4 columns</p>\n",
       "</div>"
      ],
      "text/plain": [
       "        Sex Cabin  Survived Cabin_reduced\n",
       "0      male   NaN         0             n\n",
       "1    female   C85         1             C\n",
       "2    female   NaN         1             n\n",
       "3    female  C123         1             C\n",
       "4      male   NaN         0             n\n",
       "..      ...   ...       ...           ...\n",
       "886    male   NaN         0             n\n",
       "887  female   B42         1             B\n",
       "888  female   NaN         0             n\n",
       "889    male  C148         1             C\n",
       "890    male   NaN         0             n\n",
       "\n",
       "[891 rows x 4 columns]"
      ]
     },
     "execution_count": 122,
     "metadata": {},
     "output_type": "execute_result"
    }
   ],
   "source": [
    "df"
   ]
  },
  {
   "cell_type": "code",
   "execution_count": 123,
   "metadata": {},
   "outputs": [
    {
     "data": {
      "text/plain": [
       "(Cabin            407\n",
       " Cabin_reduced      0\n",
       " Sex                0\n",
       " dtype: int64,\n",
       " Cabin            280\n",
       " Cabin_reduced      0\n",
       " Sex                0\n",
       " dtype: int64)"
      ]
     },
     "execution_count": 123,
     "metadata": {},
     "output_type": "execute_result"
    }
   ],
   "source": [
    "x_train.isnull().sum(),x_test.isnull().sum()"
   ]
  },
  {
   "cell_type": "markdown",
   "metadata": {},
   "source": [
    "### Filling the null values"
   ]
  },
  {
   "cell_type": "code",
   "execution_count": 124,
   "metadata": {},
   "outputs": [],
   "source": [
    "x_train.fillna('0',inplace = True)\n",
    "x_test.fillna('0',inplace = True)"
   ]
  },
  {
   "cell_type": "code",
   "execution_count": 125,
   "metadata": {},
   "outputs": [
    {
     "data": {
      "text/plain": [
       "(Cabin            0\n",
       " Cabin_reduced    0\n",
       " Sex              0\n",
       " dtype: int64,\n",
       " Cabin            0\n",
       " Cabin_reduced    0\n",
       " Sex              0\n",
       " dtype: int64)"
      ]
     },
     "execution_count": 125,
     "metadata": {},
     "output_type": "execute_result"
    }
   ],
   "source": [
    "x_train.isnull().sum(),x_test.isnull().sum()"
   ]
  },
  {
   "cell_type": "code",
   "execution_count": 126,
   "metadata": {},
   "outputs": [
    {
     "data": {
      "text/plain": [
       "(    Cabin Cabin_reduced     Sex\n",
       " 100     0             n  female\n",
       " 722     0             n    male\n",
       " 678     0             n  female\n",
       " 229     0             n  female\n",
       " 334     0             n  female\n",
       " ..    ...           ...     ...\n",
       " 835   E49             E  female\n",
       " 192     0             n  female\n",
       " 629     0             n    male\n",
       " 559     0             n  female\n",
       " 684     0             n    male\n",
       " \n",
       " [534 rows x 3 columns],\n",
       "     Cabin Cabin_reduced     Sex\n",
       " 495     0             n    male\n",
       " 648     0             n    male\n",
       " 278     0             n    male\n",
       " 31    B78             B  female\n",
       " 255     0             n  female\n",
       " ..    ...           ...     ...\n",
       " 363     0             n    male\n",
       " 406     0             n    male\n",
       " 866     0             n  female\n",
       " 881     0             n    male\n",
       " 618    F4             F  female\n",
       " \n",
       " [357 rows x 3 columns])"
      ]
     },
     "execution_count": 126,
     "metadata": {},
     "output_type": "execute_result"
    }
   ],
   "source": [
    "x_train,x_test"
   ]
  },
  {
   "cell_type": "markdown",
   "metadata": {},
   "source": [
    "['Cabin','Sex']\n",
    "\n",
    "['Cabin_reduced','Sex']"
   ]
  },
  {
   "cell_type": "code",
   "execution_count": 127,
   "metadata": {},
   "outputs": [],
   "source": [
    "#Now we encode categorically\n",
    "\n",
    "train = pd.get_dummies(x_train[['Cabin','Sex']],columns = ['Cabin','Sex'])"
   ]
  },
  {
   "cell_type": "code",
   "execution_count": 128,
   "metadata": {},
   "outputs": [],
   "source": [
    "test = pd.get_dummies(x_test[['Cabin','Sex']],columns = ['Cabin','Sex'])"
   ]
  },
  {
   "cell_type": "code",
   "execution_count": 129,
   "metadata": {},
   "outputs": [
    {
     "data": {
      "text/plain": [
       "((534, 106), (357, 71))"
      ]
     },
     "execution_count": 129,
     "metadata": {},
     "output_type": "execute_result"
    }
   ],
   "source": [
    "train.shape,test.shape"
   ]
  },
  {
   "cell_type": "markdown",
   "metadata": {},
   "source": [
    "### Balance the cols of the train and test"
   ]
  },
  {
   "cell_type": "code",
   "execution_count": 130,
   "metadata": {},
   "outputs": [],
   "source": [
    "missing_col = set(train.columns) - set(test.columns)"
   ]
  },
  {
   "cell_type": "code",
   "execution_count": 131,
   "metadata": {},
   "outputs": [
    {
     "data": {
      "text/plain": [
       "{'Cabin_A10',\n",
       " 'Cabin_A16',\n",
       " 'Cabin_A19',\n",
       " 'Cabin_A20',\n",
       " 'Cabin_A23',\n",
       " 'Cabin_A24',\n",
       " 'Cabin_A31',\n",
       " 'Cabin_A32',\n",
       " 'Cabin_A34',\n",
       " 'Cabin_A36',\n",
       " 'Cabin_A5',\n",
       " 'Cabin_A6',\n",
       " 'Cabin_A7',\n",
       " 'Cabin_B101',\n",
       " 'Cabin_B20',\n",
       " 'Cabin_B22',\n",
       " 'Cabin_B28',\n",
       " 'Cabin_B3',\n",
       " 'Cabin_B35',\n",
       " 'Cabin_B38',\n",
       " 'Cabin_B39',\n",
       " 'Cabin_B4',\n",
       " 'Cabin_B5',\n",
       " 'Cabin_B51 B53 B55',\n",
       " 'Cabin_B73',\n",
       " 'Cabin_B77',\n",
       " 'Cabin_B79',\n",
       " 'Cabin_B80',\n",
       " 'Cabin_B82 B84',\n",
       " 'Cabin_B86',\n",
       " 'Cabin_C101',\n",
       " 'Cabin_C103',\n",
       " 'Cabin_C104',\n",
       " 'Cabin_C110',\n",
       " 'Cabin_C111',\n",
       " 'Cabin_C118',\n",
       " 'Cabin_C123',\n",
       " 'Cabin_C2',\n",
       " 'Cabin_C22 C26',\n",
       " 'Cabin_C32',\n",
       " 'Cabin_C45',\n",
       " 'Cabin_C46',\n",
       " 'Cabin_C49',\n",
       " 'Cabin_C50',\n",
       " 'Cabin_C70',\n",
       " 'Cabin_C82',\n",
       " 'Cabin_C86',\n",
       " 'Cabin_C90',\n",
       " 'Cabin_C91',\n",
       " 'Cabin_C93',\n",
       " 'Cabin_C95',\n",
       " 'Cabin_C99',\n",
       " 'Cabin_D',\n",
       " 'Cabin_D11',\n",
       " 'Cabin_D15',\n",
       " 'Cabin_D19',\n",
       " 'Cabin_D28',\n",
       " 'Cabin_D30',\n",
       " 'Cabin_D35',\n",
       " 'Cabin_D46',\n",
       " 'Cabin_D47',\n",
       " 'Cabin_D48',\n",
       " 'Cabin_D50',\n",
       " 'Cabin_D6',\n",
       " 'Cabin_D7',\n",
       " 'Cabin_E10',\n",
       " 'Cabin_E101',\n",
       " 'Cabin_E12',\n",
       " 'Cabin_E25',\n",
       " 'Cabin_E36',\n",
       " 'Cabin_E46',\n",
       " 'Cabin_E49',\n",
       " 'Cabin_E50',\n",
       " 'Cabin_E58',\n",
       " 'Cabin_E77',\n",
       " 'Cabin_F E69',\n",
       " 'Cabin_F G63',\n",
       " 'Cabin_F38',\n",
       " 'Cabin_T'}"
      ]
     },
     "execution_count": 131,
     "metadata": {},
     "output_type": "execute_result"
    }
   ],
   "source": [
    "missing_col"
   ]
  },
  {
   "cell_type": "code",
   "execution_count": 132,
   "metadata": {},
   "outputs": [],
   "source": [
    "for c in missing_col:\n",
    "    test[c] = 0"
   ]
  },
  {
   "cell_type": "code",
   "execution_count": 133,
   "metadata": {},
   "outputs": [
    {
     "data": {
      "text/plain": [
       "Index(['Cabin_0', 'Cabin_A10', 'Cabin_A16', 'Cabin_A19', 'Cabin_A20',\n",
       "       'Cabin_A23', 'Cabin_A24', 'Cabin_A31', 'Cabin_A32', 'Cabin_A34',\n",
       "       ...\n",
       "       'Cabin_E8', 'Cabin_F E69', 'Cabin_F G63', 'Cabin_F2', 'Cabin_F38',\n",
       "       'Cabin_F4', 'Cabin_G6', 'Cabin_T', 'Sex_female', 'Sex_male'],\n",
       "      dtype='object', length=106)"
      ]
     },
     "execution_count": 133,
     "metadata": {},
     "output_type": "execute_result"
    }
   ],
   "source": [
    "train.columns"
   ]
  },
  {
   "cell_type": "code",
   "execution_count": 134,
   "metadata": {},
   "outputs": [],
   "source": [
    "test = test[train.columns]"
   ]
  },
  {
   "cell_type": "code",
   "execution_count": 135,
   "metadata": {},
   "outputs": [
    {
     "data": {
      "text/plain": [
       "((534, 106), (357, 106))"
      ]
     },
     "execution_count": 135,
     "metadata": {},
     "output_type": "execute_result"
    }
   ],
   "source": [
    "train.shape,test.shape"
   ]
  },
  {
   "cell_type": "markdown",
   "metadata": {},
   "source": [
    "## Using The RandomForestClassifier"
   ]
  },
  {
   "cell_type": "code",
   "execution_count": 136,
   "metadata": {},
   "outputs": [
    {
     "data": {
      "text/plain": [
       "RandomForestClassifier(bootstrap=True, ccp_alpha=0.0, class_weight=None,\n",
       "                       criterion='gini', max_depth=None, max_features='auto',\n",
       "                       max_leaf_nodes=None, max_samples=None,\n",
       "                       min_impurity_decrease=0.0, min_impurity_split=None,\n",
       "                       min_samples_leaf=1, min_samples_split=2,\n",
       "                       min_weight_fraction_leaf=0.0, n_estimators=200,\n",
       "                       n_jobs=None, oob_score=False, random_state=42, verbose=0,\n",
       "                       warm_start=False)"
      ]
     },
     "execution_count": 136,
     "metadata": {},
     "output_type": "execute_result"
    }
   ],
   "source": [
    "model = RandomForestClassifier(n_estimators=200, random_state=42)\n",
    "model.fit(train,y_train)"
   ]
  },
  {
   "cell_type": "code",
   "execution_count": 137,
   "metadata": {},
   "outputs": [],
   "source": [
    "y_train_pred = model.predict_proba(train)\n",
    "y_test_pred = model.predict_proba(test)"
   ]
  },
  {
   "cell_type": "code",
   "execution_count": 138,
   "metadata": {},
   "outputs": [
    {
     "data": {
      "text/plain": [
       "(array([[0.3296787 , 0.6703213 ],\n",
       "        [0.86457227, 0.13542773],\n",
       "        [0.3296787 , 0.6703213 ],\n",
       "        ...,\n",
       "        [0.86457227, 0.13542773],\n",
       "        [0.3296787 , 0.6703213 ],\n",
       "        [0.86457227, 0.13542773]]),\n",
       " array([[0.86457227, 0.13542773],\n",
       "        [0.86457227, 0.13542773],\n",
       "        [0.86457227, 0.13542773],\n",
       "        [0.01      , 0.99      ],\n",
       "        [0.3296787 , 0.6703213 ],\n",
       "        [0.84625439, 0.15374561],\n",
       "        [0.01      , 0.99      ],\n",
       "        [0.01      , 0.99      ],\n",
       "        [0.82125439, 0.17874561],\n",
       "        [0.3296787 , 0.6703213 ],\n",
       "        [0.86457227, 0.13542773],\n",
       "        [0.3296787 , 0.6703213 ],\n",
       "        [0.86457227, 0.13542773],\n",
       "        [0.3296787 , 0.6703213 ],\n",
       "        [0.01      , 0.99      ],\n",
       "        [0.3296787 , 0.6703213 ],\n",
       "        [0.86457227, 0.13542773],\n",
       "        [0.86457227, 0.13542773],\n",
       "        [0.86457227, 0.13542773],\n",
       "        [0.86457227, 0.13542773],\n",
       "        [0.86457227, 0.13542773],\n",
       "        [0.3296787 , 0.6703213 ],\n",
       "        [0.86457227, 0.13542773],\n",
       "        [0.86457227, 0.13542773],\n",
       "        [0.3296787 , 0.6703213 ],\n",
       "        [0.01      , 0.99      ],\n",
       "        [0.86457227, 0.13542773],\n",
       "        [0.3296787 , 0.6703213 ],\n",
       "        [0.3296787 , 0.6703213 ],\n",
       "        [0.3296787 , 0.6703213 ],\n",
       "        [0.86457227, 0.13542773],\n",
       "        [0.3296787 , 0.6703213 ],\n",
       "        [0.86457227, 0.13542773],\n",
       "        [0.235     , 0.765     ],\n",
       "        [0.86457227, 0.13542773],\n",
       "        [0.84625439, 0.15374561],\n",
       "        [0.86457227, 0.13542773],\n",
       "        [0.86457227, 0.13542773],\n",
       "        [0.86457227, 0.13542773],\n",
       "        [0.86457227, 0.13542773],\n",
       "        [0.84625439, 0.15374561],\n",
       "        [0.86457227, 0.13542773],\n",
       "        [0.86457227, 0.13542773],\n",
       "        [0.86457227, 0.13542773],\n",
       "        [0.01      , 0.99      ],\n",
       "        [0.86457227, 0.13542773],\n",
       "        [0.86457227, 0.13542773],\n",
       "        [0.01      , 0.99      ],\n",
       "        [0.86457227, 0.13542773],\n",
       "        [0.82958772, 0.17041228],\n",
       "        [0.84625439, 0.15374561],\n",
       "        [0.84625439, 0.15374561],\n",
       "        [0.3296787 , 0.6703213 ],\n",
       "        [0.86457227, 0.13542773],\n",
       "        [0.84625439, 0.15374561],\n",
       "        [0.86457227, 0.13542773],\n",
       "        [0.84625439, 0.15374561],\n",
       "        [0.3296787 , 0.6703213 ],\n",
       "        [0.86457227, 0.13542773],\n",
       "        [0.86457227, 0.13542773],\n",
       "        [0.86457227, 0.13542773],\n",
       "        [0.3296787 , 0.6703213 ],\n",
       "        [0.005     , 0.995     ],\n",
       "        [0.86457227, 0.13542773],\n",
       "        [0.3296787 , 0.6703213 ],\n",
       "        [0.86457227, 0.13542773],\n",
       "        [0.01      , 0.99      ],\n",
       "        [0.86457227, 0.13542773],\n",
       "        [0.3296787 , 0.6703213 ],\n",
       "        [0.01      , 0.99      ],\n",
       "        [0.3296787 , 0.6703213 ],\n",
       "        [0.81458772, 0.18541228],\n",
       "        [0.86457227, 0.13542773],\n",
       "        [0.86457227, 0.13542773],\n",
       "        [0.86457227, 0.13542773],\n",
       "        [0.3296787 , 0.6703213 ],\n",
       "        [0.89583333, 0.10416667],\n",
       "        [0.86457227, 0.13542773],\n",
       "        [0.86457227, 0.13542773],\n",
       "        [0.86457227, 0.13542773],\n",
       "        [0.86457227, 0.13542773],\n",
       "        [0.86457227, 0.13542773],\n",
       "        [0.3296787 , 0.6703213 ],\n",
       "        [0.86457227, 0.13542773],\n",
       "        [0.86457227, 0.13542773],\n",
       "        [0.01      , 0.99      ],\n",
       "        [0.3296787 , 0.6703213 ],\n",
       "        [0.3296787 , 0.6703213 ],\n",
       "        [0.01      , 0.99      ],\n",
       "        [0.83125439, 0.16874561],\n",
       "        [0.84625439, 0.15374561],\n",
       "        [0.86457227, 0.13542773],\n",
       "        [0.54055952, 0.45944048],\n",
       "        [0.        , 1.        ],\n",
       "        [0.3296787 , 0.6703213 ],\n",
       "        [0.86457227, 0.13542773],\n",
       "        [0.3296787 , 0.6703213 ],\n",
       "        [0.86457227, 0.13542773],\n",
       "        [0.86457227, 0.13542773],\n",
       "        [0.84625439, 0.15374561],\n",
       "        [0.86457227, 0.13542773],\n",
       "        [0.86457227, 0.13542773],\n",
       "        [0.84625439, 0.15374561],\n",
       "        [0.86457227, 0.13542773],\n",
       "        [0.40546429, 0.59453571],\n",
       "        [0.3296787 , 0.6703213 ],\n",
       "        [0.3296787 , 0.6703213 ],\n",
       "        [0.3296787 , 0.6703213 ],\n",
       "        [0.86457227, 0.13542773],\n",
       "        [0.3296787 , 0.6703213 ],\n",
       "        [0.86457227, 0.13542773],\n",
       "        [0.005     , 0.995     ],\n",
       "        [0.86457227, 0.13542773],\n",
       "        [0.3296787 , 0.6703213 ],\n",
       "        [0.28442105, 0.71557895],\n",
       "        [0.3296787 , 0.6703213 ],\n",
       "        [0.3296787 , 0.6703213 ],\n",
       "        [0.01      , 0.99      ],\n",
       "        [0.86457227, 0.13542773],\n",
       "        [0.3296787 , 0.6703213 ],\n",
       "        [0.86457227, 0.13542773],\n",
       "        [0.86457227, 0.13542773],\n",
       "        [0.86457227, 0.13542773],\n",
       "        [0.86457227, 0.13542773],\n",
       "        [0.86457227, 0.13542773],\n",
       "        [0.84625439, 0.15374561],\n",
       "        [0.86457227, 0.13542773],\n",
       "        [0.86457227, 0.13542773],\n",
       "        [0.86457227, 0.13542773],\n",
       "        [0.86457227, 0.13542773],\n",
       "        [0.3296787 , 0.6703213 ],\n",
       "        [0.86457227, 0.13542773],\n",
       "        [0.86457227, 0.13542773],\n",
       "        [0.3296787 , 0.6703213 ],\n",
       "        [0.86457227, 0.13542773],\n",
       "        [0.86457227, 0.13542773],\n",
       "        [0.86457227, 0.13542773],\n",
       "        [0.3296787 , 0.6703213 ],\n",
       "        [0.86457227, 0.13542773],\n",
       "        [0.86457227, 0.13542773],\n",
       "        [0.86457227, 0.13542773],\n",
       "        [0.03      , 0.97      ],\n",
       "        [0.86457227, 0.13542773],\n",
       "        [0.3296787 , 0.6703213 ],\n",
       "        [0.3296787 , 0.6703213 ],\n",
       "        [0.3296787 , 0.6703213 ],\n",
       "        [0.86457227, 0.13542773],\n",
       "        [0.3296787 , 0.6703213 ],\n",
       "        [0.01      , 0.99      ],\n",
       "        [0.86457227, 0.13542773],\n",
       "        [0.84625439, 0.15374561],\n",
       "        [0.3296787 , 0.6703213 ],\n",
       "        [0.3296787 , 0.6703213 ],\n",
       "        [0.86457227, 0.13542773],\n",
       "        [0.3296787 , 0.6703213 ],\n",
       "        [0.86457227, 0.13542773],\n",
       "        [0.3296787 , 0.6703213 ],\n",
       "        [0.86457227, 0.13542773],\n",
       "        [0.3296787 , 0.6703213 ],\n",
       "        [0.3296787 , 0.6703213 ],\n",
       "        [0.86457227, 0.13542773],\n",
       "        [0.86457227, 0.13542773],\n",
       "        [0.3296787 , 0.6703213 ],\n",
       "        [0.3296787 , 0.6703213 ],\n",
       "        [0.86457227, 0.13542773],\n",
       "        [0.84625439, 0.15374561],\n",
       "        [0.86457227, 0.13542773],\n",
       "        [0.86457227, 0.13542773],\n",
       "        [0.86457227, 0.13542773],\n",
       "        [0.86457227, 0.13542773],\n",
       "        [0.86457227, 0.13542773],\n",
       "        [0.01      , 0.99      ],\n",
       "        [0.86457227, 0.13542773],\n",
       "        [0.86457227, 0.13542773],\n",
       "        [0.3296787 , 0.6703213 ],\n",
       "        [0.86457227, 0.13542773],\n",
       "        [0.        , 1.        ],\n",
       "        [0.86457227, 0.13542773],\n",
       "        [0.86457227, 0.13542773],\n",
       "        [0.3296787 , 0.6703213 ],\n",
       "        [0.86457227, 0.13542773],\n",
       "        [0.86457227, 0.13542773],\n",
       "        [0.86457227, 0.13542773],\n",
       "        [0.86457227, 0.13542773],\n",
       "        [0.91608772, 0.08391228],\n",
       "        [0.86457227, 0.13542773],\n",
       "        [0.3296787 , 0.6703213 ],\n",
       "        [0.86457227, 0.13542773],\n",
       "        [0.86457227, 0.13542773],\n",
       "        [0.3296787 , 0.6703213 ],\n",
       "        [0.3296787 , 0.6703213 ],\n",
       "        [0.84625439, 0.15374561],\n",
       "        [0.3296787 , 0.6703213 ],\n",
       "        [0.3296787 , 0.6703213 ],\n",
       "        [0.86457227, 0.13542773],\n",
       "        [0.84625439, 0.15374561],\n",
       "        [0.86457227, 0.13542773],\n",
       "        [0.3296787 , 0.6703213 ],\n",
       "        [0.86457227, 0.13542773],\n",
       "        [0.86457227, 0.13542773],\n",
       "        [0.86457227, 0.13542773],\n",
       "        [0.3296787 , 0.6703213 ],\n",
       "        [0.86457227, 0.13542773],\n",
       "        [0.3296787 , 0.6703213 ],\n",
       "        [0.86457227, 0.13542773],\n",
       "        [0.86457227, 0.13542773],\n",
       "        [0.3296787 , 0.6703213 ],\n",
       "        [0.86457227, 0.13542773],\n",
       "        [0.3296787 , 0.6703213 ],\n",
       "        [0.86457227, 0.13542773],\n",
       "        [0.86457227, 0.13542773],\n",
       "        [0.84625439, 0.15374561],\n",
       "        [0.86457227, 0.13542773],\n",
       "        [0.3296787 , 0.6703213 ],\n",
       "        [0.86457227, 0.13542773],\n",
       "        [0.86457227, 0.13542773],\n",
       "        [0.86457227, 0.13542773],\n",
       "        [0.86457227, 0.13542773],\n",
       "        [0.3296787 , 0.6703213 ],\n",
       "        [0.3296787 , 0.6703213 ],\n",
       "        [0.86457227, 0.13542773],\n",
       "        [0.01      , 0.99      ],\n",
       "        [0.40546429, 0.59453571],\n",
       "        [0.86457227, 0.13542773],\n",
       "        [0.3296787 , 0.6703213 ],\n",
       "        [0.86457227, 0.13542773],\n",
       "        [0.86457227, 0.13542773],\n",
       "        [0.3296787 , 0.6703213 ],\n",
       "        [0.86457227, 0.13542773],\n",
       "        [0.86457227, 0.13542773],\n",
       "        [0.86457227, 0.13542773],\n",
       "        [0.3296787 , 0.6703213 ],\n",
       "        [0.3296787 , 0.6703213 ],\n",
       "        [0.3296787 , 0.6703213 ],\n",
       "        [0.86457227, 0.13542773],\n",
       "        [0.86457227, 0.13542773],\n",
       "        [0.3296787 , 0.6703213 ],\n",
       "        [0.3296787 , 0.6703213 ],\n",
       "        [0.3296787 , 0.6703213 ],\n",
       "        [0.86457227, 0.13542773],\n",
       "        [0.86457227, 0.13542773],\n",
       "        [0.01      , 0.99      ],\n",
       "        [0.86457227, 0.13542773],\n",
       "        [0.86457227, 0.13542773],\n",
       "        [0.01      , 0.99      ],\n",
       "        [0.86457227, 0.13542773],\n",
       "        [0.3296787 , 0.6703213 ],\n",
       "        [0.86457227, 0.13542773],\n",
       "        [0.86457227, 0.13542773],\n",
       "        [0.01      , 0.99      ],\n",
       "        [0.86457227, 0.13542773],\n",
       "        [0.86457227, 0.13542773],\n",
       "        [0.83625439, 0.16374561],\n",
       "        [0.86457227, 0.13542773],\n",
       "        [0.3296787 , 0.6703213 ],\n",
       "        [0.3296787 , 0.6703213 ],\n",
       "        [0.3296787 , 0.6703213 ],\n",
       "        [0.86457227, 0.13542773],\n",
       "        [0.86457227, 0.13542773],\n",
       "        [0.86457227, 0.13542773],\n",
       "        [0.86457227, 0.13542773],\n",
       "        [0.86457227, 0.13542773],\n",
       "        [0.86457227, 0.13542773],\n",
       "        [0.84625439, 0.15374561],\n",
       "        [0.86457227, 0.13542773],\n",
       "        [0.86457227, 0.13542773],\n",
       "        [0.3296787 , 0.6703213 ],\n",
       "        [0.86457227, 0.13542773],\n",
       "        [0.84625439, 0.15374561],\n",
       "        [0.01      , 0.99      ],\n",
       "        [0.86457227, 0.13542773],\n",
       "        [0.94766667, 0.05233333],\n",
       "        [0.3296787 , 0.6703213 ],\n",
       "        [0.86457227, 0.13542773],\n",
       "        [0.84625439, 0.15374561],\n",
       "        [0.86457227, 0.13542773],\n",
       "        [0.86457227, 0.13542773],\n",
       "        [0.86457227, 0.13542773],\n",
       "        [0.3296787 , 0.6703213 ],\n",
       "        [0.3296787 , 0.6703213 ],\n",
       "        [0.86457227, 0.13542773],\n",
       "        [0.3296787 , 0.6703213 ],\n",
       "        [0.84625439, 0.15374561],\n",
       "        [0.01      , 0.99      ],\n",
       "        [0.86457227, 0.13542773],\n",
       "        [0.86457227, 0.13542773],\n",
       "        [0.86457227, 0.13542773],\n",
       "        [0.3296787 , 0.6703213 ],\n",
       "        [0.86457227, 0.13542773],\n",
       "        [0.84625439, 0.15374561],\n",
       "        [0.86457227, 0.13542773],\n",
       "        [0.86457227, 0.13542773],\n",
       "        [0.3296787 , 0.6703213 ],\n",
       "        [0.3296787 , 0.6703213 ],\n",
       "        [0.01      , 0.99      ],\n",
       "        [0.86457227, 0.13542773],\n",
       "        [0.86457227, 0.13542773],\n",
       "        [0.84625439, 0.15374561],\n",
       "        [0.86457227, 0.13542773],\n",
       "        [0.86457227, 0.13542773],\n",
       "        [0.01      , 0.99      ],\n",
       "        [0.86457227, 0.13542773],\n",
       "        [0.86457227, 0.13542773],\n",
       "        [0.86457227, 0.13542773],\n",
       "        [0.84625439, 0.15374561],\n",
       "        [0.3296787 , 0.6703213 ],\n",
       "        [0.84625439, 0.15374561],\n",
       "        [0.3296787 , 0.6703213 ],\n",
       "        [0.3296787 , 0.6703213 ],\n",
       "        [0.86457227, 0.13542773],\n",
       "        [0.84625439, 0.15374561],\n",
       "        [0.3296787 , 0.6703213 ],\n",
       "        [0.3296787 , 0.6703213 ],\n",
       "        [0.86457227, 0.13542773],\n",
       "        [0.86457227, 0.13542773],\n",
       "        [0.26666667, 0.73333333],\n",
       "        [0.86457227, 0.13542773],\n",
       "        [0.86457227, 0.13542773],\n",
       "        [0.86457227, 0.13542773],\n",
       "        [0.86457227, 0.13542773],\n",
       "        [0.86457227, 0.13542773],\n",
       "        [0.3296787 , 0.6703213 ],\n",
       "        [0.01      , 0.99      ],\n",
       "        [0.3296787 , 0.6703213 ],\n",
       "        [0.84625439, 0.15374561],\n",
       "        [0.86457227, 0.13542773],\n",
       "        [0.81125439, 0.18874561],\n",
       "        [0.86457227, 0.13542773],\n",
       "        [0.86457227, 0.13542773],\n",
       "        [0.86457227, 0.13542773],\n",
       "        [0.3296787 , 0.6703213 ],\n",
       "        [0.86457227, 0.13542773],\n",
       "        [0.86457227, 0.13542773],\n",
       "        [0.86457227, 0.13542773],\n",
       "        [0.86457227, 0.13542773],\n",
       "        [0.86457227, 0.13542773],\n",
       "        [0.86457227, 0.13542773],\n",
       "        [0.84625439, 0.15374561],\n",
       "        [0.01      , 0.99      ],\n",
       "        [0.86457227, 0.13542773],\n",
       "        [0.86457227, 0.13542773],\n",
       "        [0.86457227, 0.13542773],\n",
       "        [0.86457227, 0.13542773],\n",
       "        [0.86457227, 0.13542773],\n",
       "        [0.81958772, 0.18041228],\n",
       "        [0.81125439, 0.18874561],\n",
       "        [0.01      , 0.99      ],\n",
       "        [0.86457227, 0.13542773],\n",
       "        [0.86457227, 0.13542773],\n",
       "        [0.84625439, 0.15374561],\n",
       "        [0.01      , 0.99      ],\n",
       "        [0.3296787 , 0.6703213 ],\n",
       "        [0.86457227, 0.13542773],\n",
       "        [0.86457227, 0.13542773],\n",
       "        [0.3296787 , 0.6703213 ],\n",
       "        [0.86457227, 0.13542773],\n",
       "        [0.01      , 0.99      ]]))"
      ]
     },
     "execution_count": 138,
     "metadata": {},
     "output_type": "execute_result"
    }
   ],
   "source": [
    "y_train_pred,y_test_pred"
   ]
  },
  {
   "cell_type": "code",
   "execution_count": null,
   "metadata": {},
   "outputs": [],
   "source": []
  },
  {
   "cell_type": "code",
   "execution_count": null,
   "metadata": {},
   "outputs": [],
   "source": []
  }
 ],
 "metadata": {
  "kernelspec": {
   "display_name": "Python 3",
   "language": "python",
   "name": "python3"
  },
  "language_info": {
   "codemirror_mode": {
    "name": "ipython",
    "version": 3
   },
   "file_extension": ".py",
   "mimetype": "text/x-python",
   "name": "python",
   "nbconvert_exporter": "python",
   "pygments_lexer": "ipython3",
   "version": "3.7.6"
  }
 },
 "nbformat": 4,
 "nbformat_minor": 4
}
